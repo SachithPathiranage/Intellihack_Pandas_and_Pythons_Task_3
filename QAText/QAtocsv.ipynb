{
 "cells": [
  {
   "cell_type": "code",
   "execution_count": 1,
   "metadata": {},
   "outputs": [
    {
     "name": "stdout",
     "output_type": "stream",
     "text": [
      "Successfully extracted 344 Q&A pairs to qa_pairs.csv\n"
     ]
    }
   ],
   "source": [
    "import csv\n",
    "\n",
    "def extract_qa_pairs(input_file, output_file):\n",
    "    \"\"\"\n",
    "    Extract question-answer pairs from a text file and save to CSV.\n",
    "    \n",
    "    Format of the text file:\n",
    "    - Question on one line\n",
    "    - Answer on the next line(s)\n",
    "    - Blank line separates each Q&A pair\n",
    "    \n",
    "    Parameters:\n",
    "    - input_file: Path to the input text file\n",
    "    - output_file: Path to the output CSV file\n",
    "    \"\"\"\n",
    "    # Read the text file\n",
    "    with open(input_file, 'r', encoding='utf-8') as f:\n",
    "        content = f.read()\n",
    "    \n",
    "    # Split the content by empty lines to get QA blocks\n",
    "    qa_blocks = content.split('\\n\\n')\n",
    "    \n",
    "    # Process each block to extract question and answer\n",
    "    qa_pairs = []\n",
    "    for block in qa_blocks:\n",
    "        if not block.strip():  # Skip empty blocks\n",
    "            continue\n",
    "        \n",
    "        # Split the block by newline to separate question from answer\n",
    "        lines = block.strip().split('\\n')\n",
    "        \n",
    "        if len(lines) >= 1:\n",
    "            question = lines[0].strip()\n",
    "            # Join all remaining lines as the answer\n",
    "            answer = '\\n'.join(lines[1:]).strip()\n",
    "            \n",
    "            # Add the pair only if both question and answer exist\n",
    "            if question and answer:\n",
    "                qa_pairs.append([question, answer])\n",
    "    \n",
    "    # Write to CSV\n",
    "    with open(output_file, 'w', encoding='utf-8', newline='') as f:\n",
    "        writer = csv.writer(f)\n",
    "        writer.writerow(['Question', 'Answer'])  # Header row\n",
    "        writer.writerows(qa_pairs)\n",
    "    \n",
    "    print(f\"Successfully extracted {len(qa_pairs)} Q&A pairs to {output_file}\")\n",
    "\n",
    "# Example usage\n",
    "if __name__ == \"__main__\":\n",
    "    input_file = \"input.txt\"  # Replace with your input file path\n",
    "    output_file = \"qa_pairs.csv\"  # Replace with your desired output file path\n",
    "    extract_qa_pairs(input_file, output_file)"
   ]
  },
  {
   "cell_type": "code",
   "execution_count": null,
   "metadata": {},
   "outputs": [],
   "source": []
  }
 ],
 "metadata": {
  "kernelspec": {
   "display_name": "base",
   "language": "python",
   "name": "python3"
  },
  "language_info": {
   "codemirror_mode": {
    "name": "ipython",
    "version": 3
   },
   "file_extension": ".py",
   "mimetype": "text/x-python",
   "name": "python",
   "nbconvert_exporter": "python",
   "pygments_lexer": "ipython3",
   "version": "3.12.7"
  }
 },
 "nbformat": 4,
 "nbformat_minor": 2
}
